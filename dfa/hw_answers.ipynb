{
 "cells": [
  {
   "cell_type": "markdown",
   "metadata": {},
   "source": [
    "# Section 1. Performance"
   ]
  },
  {
   "cell_type": "code",
   "execution_count": 35,
   "metadata": {},
   "outputs": [],
   "source": [
    "import pandas as pd\n",
    "import numpy as np\n",
    "\n",
    "# Read the Excel file from the 'factors' sheet\n",
    "df = pd.read_excel('dfa_analysis_data.xlsx', sheet_name='factors')\n"
   ]
  },
  {
   "cell_type": "code",
   "execution_count": 36,
   "metadata": {},
   "outputs": [],
   "source": [
    "# Function to calculate performance statistics\n",
    "def calculate_statistics(returns, rf_rate):\n",
    "    \"\"\"\n",
    "    Calculate mean, volatility, Sharpe ratio, and VaR(0.05)\n",
    "    \n",
    "    Parameters:\n",
    "    returns: Series or array of returns\n",
    "    rf_rate: Series or array of risk-free rates\n",
    "    \n",
    "    Returns:\n",
    "    Dictionary with statistics\n",
    "    \"\"\"\n",
    "    # Convert to numpy arrays\n",
    "    returns = np.array(returns)\n",
    "    rf_rate = np.array(rf_rate)\n",
    "    \n",
    "    # Calculate mean (annualized - assuming monthly data, multiply by 12)\n",
    "    mean_return = np.mean(returns) * 12\n",
    "    \n",
    "    # Calculate volatility (annualized - assuming monthly data, multiply by sqrt(12))\n",
    "    volatility = np.std(returns, ddof=1) * np.sqrt(12)\n",
    "    \n",
    "    # Calculate Sharpe ratio\n",
    "    excess_returns = returns - rf_rate\n",
    "    sharpe_ratio = (np.mean(excess_returns) * 12) / (np.std(excess_returns, ddof=1) * np.sqrt(12))\n",
    "    \n",
    "    # Calculate VaR at 5% level (using historical simulation)\n",
    "    var_05 = np.percentile(returns, 5)\n",
    "    \n",
    "    return {\n",
    "        'Mean': mean_return,\n",
    "        'Volatility': volatility,\n",
    "        'Sharpe': sharpe_ratio,\n",
    "        'VaR(0.05)': var_05\n",
    "    }"
   ]
  },
  {
   "cell_type": "code",
   "execution_count": 37,
   "metadata": {},
   "outputs": [],
   "source": [
    "date_col = df.columns[0]\n",
    "df[date_col] = pd.to_datetime(df[date_col])\n",
    "df = df.sort_values(date_col)\n"
   ]
  },
  {
   "cell_type": "code",
   "execution_count": 38,
   "metadata": {},
   "outputs": [],
   "source": [
    "period1 = df[df[date_col] <= '1980-12-31']\n",
    "period2 = df[(df[date_col] >= '1981-01-01') & (df[date_col] <= '2001-12-31')]\n",
    "period3 = df[df[date_col] >= '2002-01-01']\n"
   ]
  },
  {
   "cell_type": "code",
   "execution_count": 39,
   "metadata": {},
   "outputs": [],
   "source": [
    "# Calculate statistics for all three periods and all factors\n",
    "def analyze_all_periods(period_data, period_name, factors, rf_col):\n",
    "    \"\"\"\n",
    "    Analyze all factors for a given period\n",
    "    \"\"\"\n",
    "    print(f\"\\n{'='*80}\")\n",
    "    print(f\"{period_name}\")\n",
    "    print(f\"{'='*80}\")\n",
    "    \n",
    "    results = {}\n",
    "    \n",
    "    for factor in factors:\n",
    "        stats = calculate_statistics(period_data[factor], period_data[rf_col])\n",
    "        results[factor] = stats\n",
    "    \n",
    "    return results"
   ]
  },
  {
   "cell_type": "code",
   "execution_count": 40,
   "metadata": {},
   "outputs": [],
   "source": [
    "mkt_col = 'Mkt-RF'\n",
    "smb_col = 'SMB'\n",
    "hml_col = 'HML'\n",
    "rf_col = 'RF'"
   ]
  },
  {
   "cell_type": "code",
   "execution_count": 41,
   "metadata": {},
   "outputs": [
    {
     "name": "stdout",
     "output_type": "stream",
     "text": [
      "\n",
      "================================================================================\n",
      "Period 1: Beginning - 1980\n",
      "================================================================================\n",
      "\n",
      "================================================================================\n",
      "Period 2: 1981 - 2001\n",
      "================================================================================\n",
      "\n",
      "================================================================================\n",
      "Period 3: 2002 - End\n",
      "================================================================================\n"
     ]
    }
   ],
   "source": [
    "# Run analysis for all three periods\n",
    "if all([mkt_col, smb_col, hml_col, rf_col]):\n",
    "    factors_dict = {'mkt': mkt_col, 'smb': smb_col, 'hml': hml_col}\n",
    "    \n",
    "    results_p1 = analyze_all_periods(period1, \"Period 1: Beginning - 1980\", \n",
    "                                      [mkt_col, smb_col, hml_col], rf_col)\n",
    "    results_p2 = analyze_all_periods(period2, \"Period 2: 1981 - 2001\", \n",
    "                                      [mkt_col, smb_col, hml_col], rf_col)\n",
    "    results_p3 = analyze_all_periods(period3, \"Period 3: 2002 - End\", \n",
    "                                      [mkt_col, smb_col, hml_col], rf_col)\n",
    "else:\n",
    "    print(\"Error: Could not identify all required columns. Please check column names.\")"
   ]
  },
  {
   "cell_type": "code",
   "execution_count": 42,
   "metadata": {},
   "outputs": [
    {
     "name": "stdout",
     "output_type": "stream",
     "text": [
      "\n",
      "================================================================================\n",
      "SUMMARY TABLE\n",
      "================================================================================\n",
      "          Period Factor      Mean  Volatility    Sharpe  VaR(0.05)\n",
      "Beginning - 1980 Mkt-RF  0.080958    0.204988  0.258799  -0.084090\n",
      "Beginning - 1980    SMB  0.033914    0.114277  0.053857  -0.041875\n",
      "Beginning - 1980    HML  0.050321    0.134228  0.167743  -0.044245\n",
      "     1981 - 2001 Mkt-RF  0.077852    0.157183  0.093351  -0.064135\n",
      "     1981 - 2001    SMB -0.002014    0.117260 -0.552021  -0.045880\n",
      "     1981 - 2001    HML  0.064557    0.109863  0.013491  -0.041640\n",
      "      2002 - End Mkt-RF  0.091306    0.153529  0.490639  -0.077265\n",
      "      2002 - End    SMB  0.007931    0.088448 -0.088683  -0.039195\n",
      "      2002 - End    HML  0.001204    0.106442 -0.137055  -0.041485\n"
     ]
    }
   ],
   "source": [
    "# Create a summary table\n",
    "def create_summary_table(results_dict, period_names):\n",
    "    \"\"\"\n",
    "    Create a formatted summary table of all results\n",
    "    \"\"\"\n",
    "    summary_data = []\n",
    "    \n",
    "    for period_name, results in zip(period_names, results_dict):\n",
    "        for factor_name, stats in results.items():\n",
    "            summary_data.append({\n",
    "                'Period': period_name,\n",
    "                'Factor': factor_name,\n",
    "                'Mean': stats['Mean'],\n",
    "                'Volatility': stats['Volatility'],\n",
    "                'Sharpe': stats['Sharpe'],\n",
    "                'VaR(0.05)': stats['VaR(0.05)']\n",
    "            })\n",
    "    \n",
    "    summary_df = pd.DataFrame(summary_data)\n",
    "    return summary_df\n",
    "\n",
    "if all([mkt_col, smb_col, hml_col, rf_col]):\n",
    "    period_names = ['Beginning - 1980', '1981 - 2001', '2002 - End']\n",
    "    summary_df = create_summary_table([results_p1, results_p2, results_p3], period_names)\n",
    "    \n",
    "    print(\"\\n\" + \"=\"*80)\n",
    "    print(\"SUMMARY TABLE\")\n",
    "    print(\"=\"*80)\n",
    "    print(summary_df.to_string(index=False))\n",
    "    "
   ]
  },
  {
   "cell_type": "markdown",
   "metadata": {},
   "source": [
    "1) from the results, market factor has a premium in each subsample, the size factor has a negative premiums in 1981-2001 and 2002-end. value factor has a postive premium in each subsample. \n",
    "\n",
    "2) yes, the size factor was positive 3.39% before 1980 and it went down to -0.2% during 1980-2001 and slighly recovered to 0.79% after 2002. \n",
    "\n",
    "3) the value factor increases during 1990s, from 5.03% to 6.45%\n",
    "\n",
    "\n",
    "4) market factor is still pretty strong, but size factor and value factor's premium have come down significantly. "
   ]
  },
  {
   "cell_type": "markdown",
   "metadata": {},
   "source": [
    "# Section 2. Correlation Analysis"
   ]
  },
  {
   "cell_type": "code",
   "execution_count": 43,
   "metadata": {},
   "outputs": [
    {
     "name": "stdout",
     "output_type": "stream",
     "text": [
      "================================================================================\n",
      "CORRELATION MATRICES FOR THE THREE FACTORS\n",
      "================================================================================\n",
      "\n",
      "Period 1: Beginning - 1980\n",
      "          Mkt-RF       SMB       HML\n",
      "Mkt-RF  1.000000  0.374234  0.442341\n",
      "SMB     0.374234  1.000000  0.313397\n",
      "HML     0.442341  0.313397  1.000000\n",
      "\n",
      "Period 2: 1981 - 2001\n",
      "          Mkt-RF       SMB       HML\n",
      "Mkt-RF  1.000000  0.158652 -0.529912\n",
      "SMB     0.158652  1.000000 -0.445451\n",
      "HML    -0.529912 -0.445451  1.000000\n",
      "\n",
      "Period 3: 2002 - End\n",
      "          Mkt-RF       SMB       HML\n",
      "Mkt-RF  1.000000  0.316034  0.109671\n",
      "SMB     0.316034  1.000000  0.116227\n",
      "HML     0.109671  0.116227  1.000000\n"
     ]
    }
   ],
   "source": [
    "# Calculate correlation matrices for each subsample\n",
    "factors_list = [mkt_col, smb_col, hml_col]\n",
    "\n",
    "print(\"=\"*80)\n",
    "print(\"CORRELATION MATRICES FOR THE THREE FACTORS\")\n",
    "print(\"=\"*80)\n",
    "\n",
    "# Period 1: Beginning - 1980\n",
    "corr_p1 = period1[factors_list].corr()\n",
    "print(\"\\nPeriod 1: Beginning - 1980\")\n",
    "print(corr_p1)\n",
    "\n",
    "# Period 2: 1981 - 2001\n",
    "corr_p2 = period2[factors_list].corr()\n",
    "print(\"\\nPeriod 2: 1981 - 2001\")\n",
    "print(corr_p2)\n",
    "\n",
    "# Period 3: 2002 - End\n",
    "corr_p3 = period3[factors_list].corr()\n",
    "print(\"\\nPeriod 3: 2002 - End\")\n",
    "print(corr_p3)"
   ]
  },
  {
   "cell_type": "markdown",
   "metadata": {},
   "source": [
    "1)  all of those correlations are positive but not super big, so the construction succeeds in keeping it small\n",
    "\n",
    "2) after 1980 there's strong negative correlation between mkt factor and value factor, value factor and size factor. \n",
    "so even though each subperiods correlation is alright, it looks like the factors' correlation varies quite a bit, which means the construction is not that stable"
   ]
  }
 ],
 "metadata": {
  "kernelspec": {
   "display_name": "port_hw",
   "language": "python",
   "name": "python3"
  },
  "language_info": {
   "codemirror_mode": {
    "name": "ipython",
    "version": 3
   },
   "file_extension": ".py",
   "mimetype": "text/x-python",
   "name": "python",
   "nbconvert_exporter": "python",
   "pygments_lexer": "ipython3",
   "version": "3.12.11"
  }
 },
 "nbformat": 4,
 "nbformat_minor": 4
}
